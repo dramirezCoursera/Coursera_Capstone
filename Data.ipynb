{
    "nbformat_minor": 1, 
    "cells": [
        {
            "source": "# Data\n\n### For this project we will analyze information using Data Science methodology and tools learned in this specialization.\n\n### We will be extracting information of Manhattan, New York and store it in order to be analyzed and shown using Python libraries ideal for the task. \n\n### Data will be composed of information and features about venues at location and categorization of them including latitude and longitude.\n", 
            "cell_type": "markdown", 
            "metadata": {
                "collapsed": true
            }
        }, 
        {
            "execution_count": null, 
            "cell_type": "code", 
            "metadata": {}, 
            "outputs": [], 
            "source": ""
        }
    ], 
    "metadata": {
        "kernelspec": {
            "display_name": "Python 3.5", 
            "name": "python3", 
            "language": "python"
        }, 
        "language_info": {
            "mimetype": "text/x-python", 
            "nbconvert_exporter": "python", 
            "version": "3.5.5", 
            "name": "python", 
            "file_extension": ".py", 
            "pygments_lexer": "ipython3", 
            "codemirror_mode": {
                "version": 3, 
                "name": "ipython"
            }
        }
    }, 
    "nbformat": 4
}