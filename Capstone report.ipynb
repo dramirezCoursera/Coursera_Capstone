{
    "nbformat_minor": 1, 
    "cells": [
        {
            "source": "### Introduction / Business Problem\n\nAs part of a big chain of restaurants abroad, a new brand is trying to make its debut to a new city in USA, particularly Manhattan New York.\n\nIn order to make a business decision, the company must consider all the different places similar of interest and features. In order to make an informed investment a analysis must be done to determine if the place is ideal for a venue of our company.company.\n\n\n### Data\n\nFor this project we will analyze information using Data Science methodology and tools learned in this specialization.\n\nWe will be extracting information of Manhattan, New York and store it in order to be analyzed and shown using Python libraries ideal for the task. \n\nData will be composed of information and features about venues at location and categorization of them including latitude and longitude .\n\n\n### Methodology\n\nAccording to methodology, analysis was performed retrieving longitud and latitud coordinates of the initial location. Using the Foursquare API, extraction of the closest 100 venues near the location was conducted. \n\nData was stored in Dataframes in order to be displayed in visualization using Folium Library. Categorization was conducted for grouping of those venues in order to determine the best and worst type of venue.\n\n\n### Results\n\nFrom the data extracted we were able to represent via Geo location the spatial saturation of the 100 venues Using the Foursquare APi and Nomatin. Grouping these locations we are able to identify density of each category. \n\n\n### Discussion\n\nFrom the data we can detect that 20% of the venues with the most saturation include Parks, Playgrounds and Scenic Lookouts. But, we have to take into consideration the second group representing 12% of saturation since its compromised of commercial venuas such as Wine Shops, Plazas and Cafes.\n\n### Conclusion\nAlthough it could appear saturated of parks and playgrounds, this also tells us that there is a demand for this type venues. However, a more commercial perspective for our company would be to take into consideration a Wine Shop or Cafe but not close to the already located Venues. This, because they are proven working businesses and with high rotation and non seasonal.", 
            "cell_type": "markdown", 
            "metadata": {
                "collapsed": true
            }
        }
    ], 
    "metadata": {
        "kernelspec": {
            "display_name": "Python 3.5", 
            "name": "python3", 
            "language": "python"
        }, 
        "language_info": {
            "mimetype": "text/x-python", 
            "nbconvert_exporter": "python", 
            "version": "3.5.5", 
            "name": "python", 
            "file_extension": ".py", 
            "pygments_lexer": "ipython3", 
            "codemirror_mode": {
                "version": 3, 
                "name": "ipython"
            }
        }
    }, 
    "nbformat": 4
}